{
 "cells": [
  {
   "cell_type": "code",
   "execution_count": 1,
   "metadata": {},
   "outputs": [
    {
     "name": "stderr",
     "output_type": "stream",
     "text": [
      "2023-02-17 16:50:51.984456: I tensorflow/core/platform/cpu_feature_guard.cc:193] This TensorFlow binary is optimized with oneAPI Deep Neural Network Library (oneDNN) to use the following CPU instructions in performance-critical operations:  AVX2 FMA\n",
      "To enable them in other operations, rebuild TensorFlow with the appropriate compiler flags.\n"
     ]
    },
    {
     "name": "stdout",
     "output_type": "stream",
     "text": [
      "Downloading data from https://storage.googleapis.com/tensorflow/tf-keras-datasets/mnist.npz\n",
      "11490434/11490434 [==============================] - 1s 0us/step\n",
      "(60000, 28, 28) (60000,)\n"
     ]
    }
   ],
   "source": [
    "import keras\n",
    "from keras.datasets import mnist\n",
    "from keras.models import Sequential\n",
    "from keras.layers import Dense, Dropout, Flatten\n",
    "from keras.layers import Conv2D, MaxPooling2D\n",
    "from keras import backend as K\n",
    "# the data, split between train and test sets\n",
    "(x_train, y_train), (x_test, y_test) = mnist.load_data()\n",
    "print(x_train.shape, y_train.shape)"
   ]
  },
  {
   "cell_type": "code",
   "execution_count": 2,
   "metadata": {},
   "outputs": [
    {
     "name": "stdout",
     "output_type": "stream",
     "text": [
      "x_train shape: (60000, 28, 28, 1)\n",
      "60000 train samples\n",
      "10000 test samples\n"
     ]
    }
   ],
   "source": [
    "x_train = x_train.reshape(x_train.shape[0], 28, 28, 1)\n",
    "x_test = x_test.reshape(x_test.shape[0], 28, 28, 1)\n",
    "input_shape = (28, 28, 1)\n",
    "\n",
    "y_train = keras.utils.to_categorical(y_train, 10)\n",
    "y_test = keras.utils.to_categorical(y_test, 10)\n",
    "\n",
    "x_train = x_train.astype('float32')\n",
    "x_test = x_test.astype('float32')\n",
    "x_train /= 255\n",
    "x_test /= 255\n",
    "print('x_train shape:', x_train.shape)\n",
    "print(x_train.shape[0], 'train samples')\n",
    "print(x_test.shape[0], 'test samples')"
   ]
  },
  {
   "cell_type": "code",
   "execution_count": 3,
   "metadata": {},
   "outputs": [
    {
     "name": "stderr",
     "output_type": "stream",
     "text": [
      "2023-02-17 17:16:38.947447: I tensorflow/core/platform/cpu_feature_guard.cc:193] This TensorFlow binary is optimized with oneAPI Deep Neural Network Library (oneDNN) to use the following CPU instructions in performance-critical operations:  AVX2 FMA\n",
      "To enable them in other operations, rebuild TensorFlow with the appropriate compiler flags.\n"
     ]
    }
   ],
   "source": [
    "batch_size = 128\n",
    "num_classes = 10\n",
    "epochs = 12\n",
    "\n",
    "model = Sequential()\n",
    "model.add(Conv2D(32, kernel_size=(3, 3), activation='relu', input_shape=input_shape))\n",
    "model.add(Conv2D(64, (3, 3), activation='relu'))\n",
    "model.add(MaxPooling2D(pool_size=(2, 2)))\n",
    "model.add(Dropout(0.25))\n",
    "model.add(Flatten())\n",
    "model.add(Dense(128, activation='relu'))\n",
    "model.add(Dropout(0.5))\n",
    "model.add(Dense(num_classes, activation='softmax'))\n",
    "\n",
    "model.compile(loss=keras.losses.categorical_crossentropy, optimizer=keras.optimizers.Adadelta(), metrics=['accuracy'])\n"
   ]
  },
  {
   "cell_type": "code",
   "execution_count": 4,
   "metadata": {},
   "outputs": [
    {
     "name": "stdout",
     "output_type": "stream",
     "text": [
      "Epoch 1/12\n",
      "469/469 [==============================] - 36s 76ms/step - loss: 2.2707 - accuracy: 0.1474 - val_loss: 2.2199 - val_accuracy: 0.3361\n",
      "Epoch 2/12\n",
      "469/469 [==============================] - 38s 80ms/step - loss: 2.1934 - accuracy: 0.2576 - val_loss: 2.1258 - val_accuracy: 0.5069\n",
      "Epoch 3/12\n",
      "469/469 [==============================] - 40s 85ms/step - loss: 2.0984 - accuracy: 0.3590 - val_loss: 2.0038 - val_accuracy: 0.6105\n",
      "Epoch 4/12\n",
      "469/469 [==============================] - 41s 88ms/step - loss: 1.9751 - accuracy: 0.4474 - val_loss: 1.8454 - val_accuracy: 0.6717\n",
      "Epoch 5/12\n",
      "469/469 [==============================] - 42s 90ms/step - loss: 1.8215 - accuracy: 0.5182 - val_loss: 1.6503 - val_accuracy: 0.7167\n",
      "Epoch 6/12\n",
      "469/469 [==============================] - 41s 87ms/step - loss: 1.6460 - accuracy: 0.5741 - val_loss: 1.4394 - val_accuracy: 0.7476\n",
      "Epoch 7/12\n",
      "469/469 [==============================] - 41s 88ms/step - loss: 1.4736 - accuracy: 0.6134 - val_loss: 1.2416 - val_accuracy: 0.7741\n",
      "Epoch 8/12\n",
      "469/469 [==============================] - 43s 92ms/step - loss: 1.3250 - accuracy: 0.6405 - val_loss: 1.0739 - val_accuracy: 0.7950\n",
      "Epoch 9/12\n",
      "469/469 [==============================] - 42s 89ms/step - loss: 1.1975 - accuracy: 0.6669 - val_loss: 0.9405 - val_accuracy: 0.8093\n",
      "Epoch 10/12\n",
      "469/469 [==============================] - 42s 89ms/step - loss: 1.0951 - accuracy: 0.6856 - val_loss: 0.8356 - val_accuracy: 0.8218\n",
      "Epoch 11/12\n",
      "469/469 [==============================] - 42s 90ms/step - loss: 1.0155 - accuracy: 0.7004 - val_loss: 0.7549 - val_accuracy: 0.8327\n",
      "Epoch 12/12\n",
      "469/469 [==============================] - 42s 90ms/step - loss: 0.9484 - accuracy: 0.7184 - val_loss: 0.6919 - val_accuracy: 0.8426\n",
      "Model successfully trained\n",
      "Saving the model as mnist.h5\n"
     ]
    }
   ],
   "source": [
    "hist = model.fit(x_train, y_train, batch_size=batch_size, epochs=epochs, verbose=1, validation_data=(x_test, y_test))\n",
    "print(\"Model successfully trained\")\n",
    "\n",
    "model.save('mnist.h5')\n",
    "print(\"Saving the model as mnist.h5\")"
   ]
  },
  {
   "cell_type": "code",
   "execution_count": 5,
   "metadata": {},
   "outputs": [
    {
     "name": "stdout",
     "output_type": "stream",
     "text": [
      "Test loss: 0.691906750202179\n",
      "Test accuracy: 0.8425999879837036\n"
     ]
    }
   ],
   "source": [
    "score = model.evaluate(x_test, y_test, verbose=0)\n",
    "print('Test loss:', score[0])\n",
    "print('Test accuracy:', score[1])"
   ]
  }
 ],
 "metadata": {
  "kernelspec": {
   "display_name": ".env",
   "language": "python",
   "name": "python3"
  },
  "language_info": {
   "codemirror_mode": {
    "name": "ipython",
    "version": 3
   },
   "file_extension": ".py",
   "mimetype": "text/x-python",
   "name": "python",
   "nbconvert_exporter": "python",
   "pygments_lexer": "ipython3",
   "version": "3.10.10"
  },
  "orig_nbformat": 4,
  "vscode": {
   "interpreter": {
    "hash": "59d9f983b9d5e0bb84017f726710c59b22102b15e85f4580c1b0f3d405639e4e"
   }
  }
 },
 "nbformat": 4,
 "nbformat_minor": 2
}
