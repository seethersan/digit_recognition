{
 "cells": [
  {
   "cell_type": "code",
   "execution_count": 14,
   "metadata": {},
   "outputs": [
    {
     "name": "stdout",
     "output_type": "stream",
     "text": [
      "(60000, 28, 28) (60000,)\n"
     ]
    }
   ],
   "source": [
    "import keras\n",
    "from keras.datasets import mnist\n",
    "from keras.models import Sequential\n",
    "from keras.layers import Dense, Dropout, Flatten\n",
    "from keras.layers import Conv2D, MaxPooling2D\n",
    "from keras import backend as K\n",
    "# the data, split between train and test sets\n",
    "(x_train, y_train), (x_test, y_test) = mnist.load_data()\n",
    "print(x_train.shape, y_train.shape)"
   ]
  },
  {
   "cell_type": "code",
   "execution_count": 15,
   "metadata": {},
   "outputs": [
    {
     "name": "stdout",
     "output_type": "stream",
     "text": [
      "x_train shape: (60000, 28, 28, 1)\n",
      "60000 train samples\n",
      "10000 test samples\n"
     ]
    }
   ],
   "source": [
    "x_train = x_train.reshape(x_train.shape[0], 28, 28, 1)\n",
    "x_test = x_test.reshape(x_test.shape[0], 28, 28, 1)\n",
    "input_shape = (28, 28, 1)\n",
    "\n",
    "y_train = keras.utils.to_categorical(y_train, 10)\n",
    "y_test = keras.utils.to_categorical(y_test, 10)\n",
    "\n",
    "x_train = x_train.astype('float32')\n",
    "x_test = x_test.astype('float32')\n",
    "x_train /= 255\n",
    "x_test /= 255\n",
    "print('x_train shape:', x_train.shape)\n",
    "print(x_train.shape[0], 'train samples')\n",
    "print(x_test.shape[0], 'test samples')"
   ]
  },
  {
   "cell_type": "code",
   "execution_count": 16,
   "metadata": {},
   "outputs": [],
   "source": [
    "batch_size = 128\n",
    "num_classes = 10\n",
    "epochs = 20\n",
    "\n",
    "model = Sequential()\n",
    "model.add(Conv2D(32, kernel_size=(3, 3), activation='relu', input_shape=input_shape))\n",
    "model.add(Conv2D(64, (3, 3), activation='relu'))\n",
    "model.add(MaxPooling2D(pool_size=(2, 2)))\n",
    "model.add(Dropout(0.25))\n",
    "model.add(Flatten())\n",
    "model.add(Dense(256, activation='relu'))\n",
    "model.add(Dropout(0.5))\n",
    "model.add(Dense(num_classes, activation='softmax'))\n",
    "\n",
    "model.compile(loss=keras.losses.categorical_crossentropy, optimizer=keras.optimizers.Adadelta(), metrics=['accuracy'])\n"
   ]
  },
  {
   "cell_type": "code",
   "execution_count": 17,
   "metadata": {},
   "outputs": [
    {
     "name": "stdout",
     "output_type": "stream",
     "text": [
      "Epoch 1/20\n"
     ]
    },
    {
     "name": "stderr",
     "output_type": "stream",
     "text": [
      "2023-02-18 13:10:29.876441: I tensorflow/core/grappler/optimizers/custom_graph_optimizer_registry.cc:114] Plugin optimizer for device_type GPU is enabled.\n"
     ]
    },
    {
     "name": "stdout",
     "output_type": "stream",
     "text": [
      "469/469 [==============================] - ETA: 0s - loss: 2.2723 - accuracy: 0.1743"
     ]
    },
    {
     "name": "stderr",
     "output_type": "stream",
     "text": [
      "2023-02-18 13:10:39.678839: I tensorflow/core/grappler/optimizers/custom_graph_optimizer_registry.cc:114] Plugin optimizer for device_type GPU is enabled.\n"
     ]
    },
    {
     "name": "stdout",
     "output_type": "stream",
     "text": [
      "469/469 [==============================] - 11s 22ms/step - loss: 2.2723 - accuracy: 0.1743 - val_loss: 2.2372 - val_accuracy: 0.4312\n",
      "Epoch 2/20\n",
      "469/469 [==============================] - 10s 22ms/step - loss: 2.2090 - accuracy: 0.3108 - val_loss: 2.1591 - val_accuracy: 0.5443\n",
      "Epoch 3/20\n",
      "469/469 [==============================] - 10s 22ms/step - loss: 2.1231 - accuracy: 0.4191 - val_loss: 2.0484 - val_accuracy: 0.6257\n",
      "Epoch 4/20\n",
      "469/469 [==============================] - 10s 22ms/step - loss: 1.9971 - accuracy: 0.5091 - val_loss: 1.8877 - val_accuracy: 0.6924\n",
      "Epoch 5/20\n",
      "469/469 [==============================] - 10s 22ms/step - loss: 1.8223 - accuracy: 0.5763 - val_loss: 1.6714 - val_accuracy: 0.7374\n",
      "Epoch 6/20\n",
      "469/469 [==============================] - 10s 22ms/step - loss: 1.6103 - accuracy: 0.6233 - val_loss: 1.4228 - val_accuracy: 0.7658\n",
      "Epoch 7/20\n",
      "469/469 [==============================] - 10s 22ms/step - loss: 1.3864 - accuracy: 0.6600 - val_loss: 1.1825 - val_accuracy: 0.7881\n",
      "Epoch 8/20\n",
      "469/469 [==============================] - 10s 22ms/step - loss: 1.1896 - accuracy: 0.6921 - val_loss: 0.9838 - val_accuracy: 0.8091\n",
      "Epoch 9/20\n",
      "469/469 [==============================] - 10s 22ms/step - loss: 1.0319 - accuracy: 0.7212 - val_loss: 0.8354 - val_accuracy: 0.8249\n",
      "Epoch 10/20\n",
      "469/469 [==============================] - 10s 22ms/step - loss: 0.9163 - accuracy: 0.7406 - val_loss: 0.7295 - val_accuracy: 0.8398\n",
      "Epoch 11/20\n",
      "469/469 [==============================] - 10s 22ms/step - loss: 0.8275 - accuracy: 0.7612 - val_loss: 0.6516 - val_accuracy: 0.8506\n",
      "Epoch 12/20\n",
      "469/469 [==============================] - 10s 22ms/step - loss: 0.7602 - accuracy: 0.7796 - val_loss: 0.5936 - val_accuracy: 0.8590\n",
      "Epoch 13/20\n",
      "469/469 [==============================] - 12s 25ms/step - loss: 0.7071 - accuracy: 0.7917 - val_loss: 0.5489 - val_accuracy: 0.8669\n",
      "Epoch 14/20\n",
      "469/469 [==============================] - 14s 29ms/step - loss: 0.6636 - accuracy: 0.8030 - val_loss: 0.5132 - val_accuracy: 0.8731\n",
      "Epoch 15/20\n",
      "469/469 [==============================] - 13s 28ms/step - loss: 0.6271 - accuracy: 0.8149 - val_loss: 0.4853 - val_accuracy: 0.8777\n",
      "Epoch 16/20\n",
      "469/469 [==============================] - 11s 24ms/step - loss: 0.5964 - accuracy: 0.8222 - val_loss: 0.4611 - val_accuracy: 0.8817\n",
      "Epoch 17/20\n",
      "469/469 [==============================] - 10s 22ms/step - loss: 0.5700 - accuracy: 0.8298 - val_loss: 0.4411 - val_accuracy: 0.8846\n",
      "Epoch 18/20\n",
      "469/469 [==============================] - 10s 22ms/step - loss: 0.5464 - accuracy: 0.8371 - val_loss: 0.4237 - val_accuracy: 0.8880\n",
      "Epoch 19/20\n",
      "469/469 [==============================] - 10s 22ms/step - loss: 0.5266 - accuracy: 0.8435 - val_loss: 0.4090 - val_accuracy: 0.8908\n",
      "Epoch 20/20\n",
      "469/469 [==============================] - 11s 24ms/step - loss: 0.5091 - accuracy: 0.8492 - val_loss: 0.3961 - val_accuracy: 0.8927\n",
      "Model successfully trained\n",
      "Saving the model as mnist.h5\n"
     ]
    }
   ],
   "source": [
    "hist = model.fit(x_train, y_train, batch_size=batch_size, epochs=epochs, verbose=1, validation_data=(x_test, y_test))\n",
    "print(\"Model successfully trained\")\n",
    "\n",
    "model.save('mnist.h5')\n",
    "print(\"Saving the model as mnist.h5\")"
   ]
  },
  {
   "cell_type": "code",
   "execution_count": 18,
   "metadata": {},
   "outputs": [
    {
     "name": "stdout",
     "output_type": "stream",
     "text": [
      "Test loss: 0.3960818648338318\n",
      "Test accuracy: 0.8926999568939209\n"
     ]
    }
   ],
   "source": [
    "score = model.evaluate(x_test, y_test, verbose=0)\n",
    "print('Test loss:', score[0])\n",
    "print('Test accuracy:', score[1])"
   ]
  }
 ],
 "metadata": {
  "kernelspec": {
   "display_name": ".env",
   "language": "python",
   "name": "python3"
  },
  "language_info": {
   "codemirror_mode": {
    "name": "ipython",
    "version": 3
   },
   "file_extension": ".py",
   "mimetype": "text/x-python",
   "name": "python",
   "nbconvert_exporter": "python",
   "pygments_lexer": "ipython3",
   "version": "3.10.10"
  },
  "orig_nbformat": 4,
  "vscode": {
   "interpreter": {
    "hash": "59d9f983b9d5e0bb84017f726710c59b22102b15e85f4580c1b0f3d405639e4e"
   }
  }
 },
 "nbformat": 4,
 "nbformat_minor": 2
}
